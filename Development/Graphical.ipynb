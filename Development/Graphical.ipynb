{
 "cells": [
  {
   "cell_type": "code",
   "execution_count": 4,
   "metadata": {
    "scrolled": true
   },
   "outputs": [],
   "source": [
    "from chessmaster import Chessmaster"
   ]
  },
  {
   "cell_type": "code",
   "execution_count": 5,
   "metadata": {},
   "outputs": [],
   "source": [
    "chessmaster = Chessmaster()"
   ]
  },
  {
   "cell_type": "code",
   "execution_count": null,
   "metadata": {},
   "outputs": [
    {
     "name": "stdout",
     "output_type": "stream",
     "text": [
      "Loaded model\n",
      "Iter:  0\n",
      "Saving\n",
      "Iter:  1\n",
      "Iter:  2\n",
      "Iter:  3\n",
      "Iter:  4\n",
      "Iter:  5\n",
      "Saving\n",
      "Iter:  6\n",
      "Iter:  7\n",
      "Iter:  8\n",
      "Iter:  9\n",
      "Iter:  10\n",
      "Saving\n",
      "Iter:  11\n",
      "Iter:  12\n",
      "Iter:  13\n",
      "Iter:  14\n",
      "Iter:  15\n",
      "Saving\n",
      "Iter:  16\n",
      "Iter:  17\n",
      "Iter:  18\n",
      "Iter:  19\n",
      "Iter:  20\n",
      "Saving\n",
      "Iter:  21\n",
      "Iter:  22\n",
      "Iter:  23\n",
      "Iter:  24\n",
      "Iter:  25\n",
      "Saving\n",
      "Iter:  26\n",
      "Iter:  27\n",
      "Iter:  28\n",
      "Iter:  29\n",
      "Iter:  30\n",
      "Saving\n",
      "Iter:  31\n",
      "Iter:  32\n",
      "Iter:  33\n",
      "Iter:  34\n",
      "Iter:  35\n",
      "Saving\n",
      "Iter:  36\n",
      "Iter:  37\n",
      "Iter:  38\n",
      "Iter:  39\n",
      "Iter:  40\n",
      "Saving\n",
      "Iter:  41\n",
      "Iter:  42\n",
      "Iter:  43\n",
      "Iter:  44\n",
      "Iter:  45\n",
      "Saving\n",
      "Iter:  46\n",
      "Iter:  47\n",
      "Iter:  48\n",
      "Iter:  49\n",
      "Iter:  50\n",
      "Saving\n",
      "Iter:  51\n",
      "Iter:  52\n",
      "Iter:  53\n"
     ]
    }
   ],
   "source": [
    "chessmaster.train_agent(500)"
   ]
  },
  {
   "cell_type": "code",
   "execution_count": null,
   "metadata": {},
   "outputs": [],
   "source": [
    "Chessmaster.plot_reward_trace()"
   ]
  },
  {
   "cell_type": "code",
   "execution_count": null,
   "metadata": {},
   "outputs": [],
   "source": [
    "Chessmaster.plot_balance_trace()"
   ]
  },
  {
   "cell_type": "code",
   "execution_count": null,
   "metadata": {},
   "outputs": [],
   "source": [
    "Chessmaster.play()"
   ]
  },
  {
   "cell_type": "code",
   "execution_count": null,
   "metadata": {},
   "outputs": [],
   "source": [
    "r = chessmaster.Chessmaster()"
   ]
  },
  {
   "cell_type": "code",
   "execution_count": null,
   "metadata": {},
   "outputs": [],
   "source": [
    "r.load_model()"
   ]
  },
  {
   "cell_type": "code",
   "execution_count": null,
   "metadata": {},
   "outputs": [],
   "source": [
    "r.play()"
   ]
  },
  {
   "cell_type": "code",
   "execution_count": null,
   "metadata": {},
   "outputs": [],
   "source": []
  }
 ],
 "metadata": {
  "kernelspec": {
   "display_name": "Python 3",
   "language": "python",
   "name": "python3"
  },
  "language_info": {
   "codemirror_mode": {
    "name": "ipython",
    "version": 3
   },
   "file_extension": ".py",
   "mimetype": "text/x-python",
   "name": "python",
   "nbconvert_exporter": "python",
   "pygments_lexer": "ipython3",
   "version": "3.7.6"
  }
 },
 "nbformat": 4,
 "nbformat_minor": 4
}
